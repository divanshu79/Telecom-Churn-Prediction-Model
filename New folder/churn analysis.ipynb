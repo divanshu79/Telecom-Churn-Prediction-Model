{
 "cells": [
  {
   "cell_type": "code",
   "execution_count": 1,
   "metadata": {},
   "outputs": [
    {
     "name": "stderr",
     "output_type": "stream",
     "text": [
      "C:\\Users\\tabme\\Anaconda3\\lib\\site-packages\\sklearn\\cross_validation.py:41: DeprecationWarning: This module was deprecated in version 0.18 in favor of the model_selection module into which all the refactored classes and functions are moved. Also note that the interface of the new CV iterators are different from that of this module. This module will be removed in 0.20.\n",
      "  \"This module will be removed in 0.20.\", DeprecationWarning)\n",
      "C:\\Users\\tabme\\Anaconda3\\lib\\site-packages\\sklearn\\grid_search.py:42: DeprecationWarning: This module was deprecated in version 0.18 in favor of the model_selection module into which all the refactored classes and functions are moved. This module will be removed in 0.20.\n",
      "  DeprecationWarning)\n"
     ]
    }
   ],
   "source": [
    "import pandas as pd\n",
    "pd.set_option('display.width', 500)\n",
    "pd.set_option('display.max_columns', 100)\n",
    "pd.set_option('display.notebook_repr_html', True)\n",
    "\n",
    "import numpy as np\n",
    "\n",
    "import seaborn as sns\n",
    "sns.set_style('whitegrid')\n",
    "sns.set_context('poster')\n",
    "\n",
    "from matplotlib import rcParams\n",
    "import matplotlib.pyplot as plt\n",
    "from sklearn.grid_search import GridSearchCV\n",
    "from sklearn.metrics import confusion_matrix"
   ]
  },
  {
   "cell_type": "code",
   "execution_count": 2,
   "metadata": {},
   "outputs": [
    {
     "name": "stderr",
     "output_type": "stream",
     "text": [
      "C:\\Users\\tabme\\Anaconda3\\lib\\site-packages\\IPython\\core\\interactiveshell.py:2728: DtypeWarning: Columns (4) have mixed types. Specify dtype option on import or set low_memory=False.\n",
      "  interactivity=interactivity, compiler=compiler, result=result)\n"
     ]
    },
    {
     "data": {
      "text/html": [
       "<div>\n",
       "<style scoped>\n",
       "    .dataframe tbody tr th:only-of-type {\n",
       "        vertical-align: middle;\n",
       "    }\n",
       "\n",
       "    .dataframe tbody tr th {\n",
       "        vertical-align: top;\n",
       "    }\n",
       "\n",
       "    .dataframe thead th {\n",
       "        text-align: right;\n",
       "    }\n",
       "</style>\n",
       "<table border=\"1\" class=\"dataframe\">\n",
       "  <thead>\n",
       "    <tr style=\"text-align: right;\">\n",
       "      <th></th>\n",
       "      <th>OBS</th>\n",
       "      <th>CUSTOMERID</th>\n",
       "      <th>CITY</th>\n",
       "      <th>STATE</th>\n",
       "      <th>ZIP</th>\n",
       "      <th>REGION</th>\n",
       "      <th>CURRENTBALANCE</th>\n",
       "      <th>CONTRACT_FEE</th>\n",
       "      <th>TOT_OPEN_AMT</th>\n",
       "      <th>TOT_INVOICE_AMT</th>\n",
       "      <th>TOT_PAID_AMT</th>\n",
       "      <th>NUM_INVOICES</th>\n",
       "      <th>ACTIVATED_YEAR</th>\n",
       "      <th>ACTIVATED_MONTH</th>\n",
       "      <th>AGE_RANGE</th>\n",
       "      <th>CREDIT_APPROVAL</th>\n",
       "      <th>RENEWAL_YEAR</th>\n",
       "      <th>RENEWAL_MONTH</th>\n",
       "      <th>CONTACT_METHOD</th>\n",
       "      <th>RATE_PLAN</th>\n",
       "      <th>CHURN</th>\n",
       "    </tr>\n",
       "  </thead>\n",
       "  <tbody>\n",
       "    <tr>\n",
       "      <th>0</th>\n",
       "      <td>1</td>\n",
       "      <td>498696</td>\n",
       "      <td>MONTGOMERY</td>\n",
       "      <td>AL</td>\n",
       "      <td>36117</td>\n",
       "      <td>E_S_CENTRAL</td>\n",
       "      <td>0.00</td>\n",
       "      <td>0.0</td>\n",
       "      <td>0.00</td>\n",
       "      <td>53.51</td>\n",
       "      <td>53.51</td>\n",
       "      <td>5</td>\n",
       "      <td>1999</td>\n",
       "      <td>MAR</td>\n",
       "      <td>30S</td>\n",
       "      <td>None</td>\n",
       "      <td>1999</td>\n",
       "      <td>MAR</td>\n",
       "      <td>OTHER</td>\n",
       "      <td>BASIC</td>\n",
       "      <td>0</td>\n",
       "    </tr>\n",
       "    <tr>\n",
       "      <th>1</th>\n",
       "      <td>2</td>\n",
       "      <td>498778</td>\n",
       "      <td>PRATTVILLE</td>\n",
       "      <td>AL</td>\n",
       "      <td>36066</td>\n",
       "      <td>E_S_CENTRAL</td>\n",
       "      <td>273.05</td>\n",
       "      <td>50.0</td>\n",
       "      <td>0.00</td>\n",
       "      <td>566.87</td>\n",
       "      <td>566.87</td>\n",
       "      <td>3</td>\n",
       "      <td>1999</td>\n",
       "      <td>MAR</td>\n",
       "      <td>50S</td>\n",
       "      <td>Manual Review</td>\n",
       "      <td>1999</td>\n",
       "      <td>JUN</td>\n",
       "      <td>OTHER</td>\n",
       "      <td>UNLIMITED</td>\n",
       "      <td>1</td>\n",
       "    </tr>\n",
       "    <tr>\n",
       "      <th>2</th>\n",
       "      <td>3</td>\n",
       "      <td>498775</td>\n",
       "      <td>SYLACAUGA</td>\n",
       "      <td>AL</td>\n",
       "      <td>35151</td>\n",
       "      <td>E_S_CENTRAL</td>\n",
       "      <td>37.59</td>\n",
       "      <td>20.0</td>\n",
       "      <td>37.59</td>\n",
       "      <td>174.27</td>\n",
       "      <td>136.68</td>\n",
       "      <td>5</td>\n",
       "      <td>1999</td>\n",
       "      <td>MAR</td>\n",
       "      <td>20S</td>\n",
       "      <td>3 Approved Services</td>\n",
       "      <td>1999</td>\n",
       "      <td>MAR</td>\n",
       "      <td>FAMILY SALE</td>\n",
       "      <td>200 MINUTE</td>\n",
       "      <td>0</td>\n",
       "    </tr>\n",
       "    <tr>\n",
       "      <th>3</th>\n",
       "      <td>4</td>\n",
       "      <td>498757</td>\n",
       "      <td>ECLECTIC</td>\n",
       "      <td>AL</td>\n",
       "      <td>36024</td>\n",
       "      <td>E_S_CENTRAL</td>\n",
       "      <td>0.00</td>\n",
       "      <td>0.0</td>\n",
       "      <td>0.00</td>\n",
       "      <td>66.24</td>\n",
       "      <td>66.24</td>\n",
       "      <td>5</td>\n",
       "      <td>1999</td>\n",
       "      <td>MAR</td>\n",
       "      <td>30S</td>\n",
       "      <td>1 Approved Services</td>\n",
       "      <td>1999</td>\n",
       "      <td>MAR</td>\n",
       "      <td>OTHER</td>\n",
       "      <td>BASIC</td>\n",
       "      <td>0</td>\n",
       "    </tr>\n",
       "    <tr>\n",
       "      <th>4</th>\n",
       "      <td>5</td>\n",
       "      <td>498752</td>\n",
       "      <td>ANNISTON</td>\n",
       "      <td>AL</td>\n",
       "      <td>36206</td>\n",
       "      <td>E_S_CENTRAL</td>\n",
       "      <td>27.05</td>\n",
       "      <td>20.0</td>\n",
       "      <td>27.05</td>\n",
       "      <td>169.62</td>\n",
       "      <td>142.57</td>\n",
       "      <td>5</td>\n",
       "      <td>1999</td>\n",
       "      <td>MAR</td>\n",
       "      <td>30S</td>\n",
       "      <td>5 Approved Services</td>\n",
       "      <td>1999</td>\n",
       "      <td>MAR</td>\n",
       "      <td>OTHER</td>\n",
       "      <td>200 MINUTE</td>\n",
       "      <td>0</td>\n",
       "    </tr>\n",
       "  </tbody>\n",
       "</table>\n",
       "</div>"
      ],
      "text/plain": [
       "   OBS  CUSTOMERID        CITY STATE    ZIP       REGION  CURRENTBALANCE  CONTRACT_FEE  TOT_OPEN_AMT  TOT_INVOICE_AMT  TOT_PAID_AMT  NUM_INVOICES  ACTIVATED_YEAR ACTIVATED_MONTH AGE_RANGE       CREDIT_APPROVAL  RENEWAL_YEAR RENEWAL_MONTH CONTACT_METHOD   RATE_PLAN  CHURN\n",
       "0    1      498696  MONTGOMERY    AL  36117  E_S_CENTRAL            0.00           0.0          0.00            53.51         53.51             5            1999             MAR       30S                  None          1999           MAR          OTHER       BASIC      0\n",
       "1    2      498778  PRATTVILLE    AL  36066  E_S_CENTRAL          273.05          50.0          0.00           566.87        566.87             3            1999             MAR       50S         Manual Review          1999           JUN          OTHER   UNLIMITED      1\n",
       "2    3      498775   SYLACAUGA    AL  35151  E_S_CENTRAL           37.59          20.0         37.59           174.27        136.68             5            1999             MAR       20S   3 Approved Services          1999           MAR    FAMILY SALE  200 MINUTE      0\n",
       "3    4      498757    ECLECTIC    AL  36024  E_S_CENTRAL            0.00           0.0          0.00            66.24         66.24             5            1999             MAR       30S   1 Approved Services          1999           MAR          OTHER       BASIC      0\n",
       "4    5      498752    ANNISTON    AL  36206  E_S_CENTRAL           27.05          20.0         27.05           169.62        142.57             5            1999             MAR       30S   5 Approved Services          1999           MAR          OTHER  200 MINUTE      0"
      ]
     },
     "execution_count": 2,
     "metadata": {},
     "output_type": "execute_result"
    }
   ],
   "source": [
    "data = pd.read_csv('traindata.csv')\n",
    "data.head()"
   ]
  },
  {
   "cell_type": "code",
   "execution_count": 3,
   "metadata": {},
   "outputs": [
    {
     "data": {
      "text/plain": [
       "(371933, 21)"
      ]
     },
     "execution_count": 3,
     "metadata": {},
     "output_type": "execute_result"
    }
   ],
   "source": [
    "data.shape"
   ]
  },
  {
   "cell_type": "code",
   "execution_count": 4,
   "metadata": {},
   "outputs": [],
   "source": [
    "from sklearn.preprocessing import LabelEncoder, OneHotEncoder\n",
    "laen_x = LabelEncoder()"
   ]
  },
  {
   "cell_type": "code",
   "execution_count": 5,
   "metadata": {},
   "outputs": [],
   "source": [
    "data = data.drop('OBS',axis=1)\n",
    "data = data.drop('CUSTOMERID',axis=1)\n",
    "data = data.drop('ZIP',axis=1)\n",
    "data = data.drop('ACTIVATED_MONTH',axis=1)\n",
    "data = data.drop('RENEWAL_MONTH',axis=1)\n",
    "data = data.drop('CITY',axis=1)"
   ]
  },
  {
   "cell_type": "code",
   "execution_count": 6,
   "metadata": {},
   "outputs": [
    {
     "data": {
      "text/html": [
       "<div>\n",
       "<style scoped>\n",
       "    .dataframe tbody tr th:only-of-type {\n",
       "        vertical-align: middle;\n",
       "    }\n",
       "\n",
       "    .dataframe tbody tr th {\n",
       "        vertical-align: top;\n",
       "    }\n",
       "\n",
       "    .dataframe thead th {\n",
       "        text-align: right;\n",
       "    }\n",
       "</style>\n",
       "<table border=\"1\" class=\"dataframe\">\n",
       "  <thead>\n",
       "    <tr style=\"text-align: right;\">\n",
       "      <th></th>\n",
       "      <th>STATE</th>\n",
       "      <th>REGION</th>\n",
       "      <th>CURRENTBALANCE</th>\n",
       "      <th>CONTRACT_FEE</th>\n",
       "      <th>TOT_OPEN_AMT</th>\n",
       "      <th>TOT_INVOICE_AMT</th>\n",
       "      <th>TOT_PAID_AMT</th>\n",
       "      <th>NUM_INVOICES</th>\n",
       "      <th>ACTIVATED_YEAR</th>\n",
       "      <th>AGE_RANGE</th>\n",
       "      <th>CREDIT_APPROVAL</th>\n",
       "      <th>RENEWAL_YEAR</th>\n",
       "      <th>CONTACT_METHOD</th>\n",
       "      <th>RATE_PLAN</th>\n",
       "      <th>CHURN</th>\n",
       "    </tr>\n",
       "  </thead>\n",
       "  <tbody>\n",
       "    <tr>\n",
       "      <th>0</th>\n",
       "      <td>AL</td>\n",
       "      <td>E_S_CENTRAL</td>\n",
       "      <td>0.00</td>\n",
       "      <td>0.0</td>\n",
       "      <td>0.00</td>\n",
       "      <td>53.51</td>\n",
       "      <td>53.51</td>\n",
       "      <td>5</td>\n",
       "      <td>1999</td>\n",
       "      <td>30S</td>\n",
       "      <td>None</td>\n",
       "      <td>1999</td>\n",
       "      <td>OTHER</td>\n",
       "      <td>BASIC</td>\n",
       "      <td>0</td>\n",
       "    </tr>\n",
       "    <tr>\n",
       "      <th>1</th>\n",
       "      <td>AL</td>\n",
       "      <td>E_S_CENTRAL</td>\n",
       "      <td>273.05</td>\n",
       "      <td>50.0</td>\n",
       "      <td>0.00</td>\n",
       "      <td>566.87</td>\n",
       "      <td>566.87</td>\n",
       "      <td>3</td>\n",
       "      <td>1999</td>\n",
       "      <td>50S</td>\n",
       "      <td>Manual Review</td>\n",
       "      <td>1999</td>\n",
       "      <td>OTHER</td>\n",
       "      <td>UNLIMITED</td>\n",
       "      <td>1</td>\n",
       "    </tr>\n",
       "    <tr>\n",
       "      <th>2</th>\n",
       "      <td>AL</td>\n",
       "      <td>E_S_CENTRAL</td>\n",
       "      <td>37.59</td>\n",
       "      <td>20.0</td>\n",
       "      <td>37.59</td>\n",
       "      <td>174.27</td>\n",
       "      <td>136.68</td>\n",
       "      <td>5</td>\n",
       "      <td>1999</td>\n",
       "      <td>20S</td>\n",
       "      <td>3 Approved Services</td>\n",
       "      <td>1999</td>\n",
       "      <td>FAMILY SALE</td>\n",
       "      <td>200 MINUTE</td>\n",
       "      <td>0</td>\n",
       "    </tr>\n",
       "    <tr>\n",
       "      <th>3</th>\n",
       "      <td>AL</td>\n",
       "      <td>E_S_CENTRAL</td>\n",
       "      <td>0.00</td>\n",
       "      <td>0.0</td>\n",
       "      <td>0.00</td>\n",
       "      <td>66.24</td>\n",
       "      <td>66.24</td>\n",
       "      <td>5</td>\n",
       "      <td>1999</td>\n",
       "      <td>30S</td>\n",
       "      <td>1 Approved Services</td>\n",
       "      <td>1999</td>\n",
       "      <td>OTHER</td>\n",
       "      <td>BASIC</td>\n",
       "      <td>0</td>\n",
       "    </tr>\n",
       "    <tr>\n",
       "      <th>4</th>\n",
       "      <td>AL</td>\n",
       "      <td>E_S_CENTRAL</td>\n",
       "      <td>27.05</td>\n",
       "      <td>20.0</td>\n",
       "      <td>27.05</td>\n",
       "      <td>169.62</td>\n",
       "      <td>142.57</td>\n",
       "      <td>5</td>\n",
       "      <td>1999</td>\n",
       "      <td>30S</td>\n",
       "      <td>5 Approved Services</td>\n",
       "      <td>1999</td>\n",
       "      <td>OTHER</td>\n",
       "      <td>200 MINUTE</td>\n",
       "      <td>0</td>\n",
       "    </tr>\n",
       "  </tbody>\n",
       "</table>\n",
       "</div>"
      ],
      "text/plain": [
       "  STATE       REGION  CURRENTBALANCE  CONTRACT_FEE  TOT_OPEN_AMT  TOT_INVOICE_AMT  TOT_PAID_AMT  NUM_INVOICES  ACTIVATED_YEAR AGE_RANGE       CREDIT_APPROVAL  RENEWAL_YEAR CONTACT_METHOD   RATE_PLAN  CHURN\n",
       "0    AL  E_S_CENTRAL            0.00           0.0          0.00            53.51         53.51             5            1999       30S                  None          1999          OTHER       BASIC      0\n",
       "1    AL  E_S_CENTRAL          273.05          50.0          0.00           566.87        566.87             3            1999       50S         Manual Review          1999          OTHER   UNLIMITED      1\n",
       "2    AL  E_S_CENTRAL           37.59          20.0         37.59           174.27        136.68             5            1999       20S   3 Approved Services          1999    FAMILY SALE  200 MINUTE      0\n",
       "3    AL  E_S_CENTRAL            0.00           0.0          0.00            66.24         66.24             5            1999       30S   1 Approved Services          1999          OTHER       BASIC      0\n",
       "4    AL  E_S_CENTRAL           27.05          20.0         27.05           169.62        142.57             5            1999       30S   5 Approved Services          1999          OTHER  200 MINUTE      0"
      ]
     },
     "execution_count": 6,
     "metadata": {},
     "output_type": "execute_result"
    }
   ],
   "source": [
    "data.head()"
   ]
  },
  {
   "cell_type": "code",
   "execution_count": 7,
   "metadata": {},
   "outputs": [
    {
     "name": "stdout",
     "output_type": "stream",
     "text": [
      "<class 'pandas.core.frame.DataFrame'>\n",
      "RangeIndex: 371933 entries, 0 to 371932\n",
      "Data columns (total 15 columns):\n",
      "STATE              371933 non-null object\n",
      "REGION             371933 non-null object\n",
      "CURRENTBALANCE     371933 non-null float64\n",
      "CONTRACT_FEE       371933 non-null float64\n",
      "TOT_OPEN_AMT       371933 non-null float64\n",
      "TOT_INVOICE_AMT    371933 non-null float64\n",
      "TOT_PAID_AMT       371933 non-null float64\n",
      "NUM_INVOICES       371933 non-null int64\n",
      "ACTIVATED_YEAR     371933 non-null int64\n",
      "AGE_RANGE          371933 non-null object\n",
      "CREDIT_APPROVAL    371933 non-null object\n",
      "RENEWAL_YEAR       371933 non-null int64\n",
      "CONTACT_METHOD     371933 non-null object\n",
      "RATE_PLAN          371933 non-null object\n",
      "CHURN              371933 non-null int64\n",
      "dtypes: float64(5), int64(4), object(6)\n",
      "memory usage: 42.6+ MB\n"
     ]
    }
   ],
   "source": [
    "data.info()"
   ]
  },
  {
   "cell_type": "code",
   "execution_count": 8,
   "metadata": {},
   "outputs": [],
   "source": [
    "X = data.iloc[:,:-1].values\n",
    "y = data.iloc[:,14].values"
   ]
  },
  {
   "cell_type": "code",
   "execution_count": 9,
   "metadata": {},
   "outputs": [],
   "source": [
    "from sklearn.preprocessing import LabelEncoder, OneHotEncoder\n",
    "laen_x = LabelEncoder()\n",
    "# X[:,0] = laen_x.fit_transform(X[:,0])\n",
    "X[:,0] = laen_x.fit_transform(X[:,0])\n",
    "X[:,1] = laen_x.fit_transform(X[:,1])\n",
    "X[:,9] = laen_x.fit_transform(X[:,9])\n",
    "X[:,10] = laen_x.fit_transform(X[:,10])\n",
    "X[:,13] = laen_x.fit_transform(X[:,13])\n",
    "X[:,12] = laen_x.fit_transform(X[:,12])"
   ]
  },
  {
   "cell_type": "code",
   "execution_count": 10,
   "metadata": {},
   "outputs": [],
   "source": [
    "ohe = OneHotEncoder(categorical_features = [0,1,9,10,12,13])\n",
    "X = ohe.fit_transform(X).toarray()"
   ]
  },
  {
   "cell_type": "code",
   "execution_count": 11,
   "metadata": {},
   "outputs": [
    {
     "data": {
      "text/plain": [
       "array([[0.000e+00, 1.000e+00, 0.000e+00, ..., 5.000e+00, 1.999e+03,\n",
       "        1.999e+03],\n",
       "       [0.000e+00, 1.000e+00, 0.000e+00, ..., 3.000e+00, 1.999e+03,\n",
       "        1.999e+03],\n",
       "       [0.000e+00, 1.000e+00, 0.000e+00, ..., 5.000e+00, 1.999e+03,\n",
       "        1.999e+03],\n",
       "       ...,\n",
       "       [0.000e+00, 0.000e+00, 0.000e+00, ..., 1.100e+01, 1.997e+03,\n",
       "        1.998e+03],\n",
       "       [0.000e+00, 0.000e+00, 0.000e+00, ..., 2.300e+01, 1.997e+03,\n",
       "        1.999e+03],\n",
       "       [0.000e+00, 0.000e+00, 0.000e+00, ..., 2.000e+01, 1.997e+03,\n",
       "        1.997e+03]])"
      ]
     },
     "execution_count": 11,
     "metadata": {},
     "output_type": "execute_result"
    }
   ],
   "source": [
    "X"
   ]
  },
  {
   "cell_type": "code",
   "execution_count": 12,
   "metadata": {},
   "outputs": [],
   "source": [
    "from sklearn.cross_validation import train_test_split\n",
    "X_train, X_test, y_train, y_test = train_test_split(X, y, test_size = 0.2, random_state = 42)"
   ]
  },
  {
   "cell_type": "code",
   "execution_count": 13,
   "metadata": {},
   "outputs": [],
   "source": [
    "from sklearn.preprocessing import StandardScaler\n",
    "scale_x = StandardScaler()\n",
    "X_train = scale_x.fit_transform(X_train)\n",
    "X_test = scale_x.transform(X_test)"
   ]
  },
  {
   "cell_type": "code",
   "execution_count": 14,
   "metadata": {},
   "outputs": [],
   "source": [
    "#\n",
    "#   HELPERS\n",
    "#   Will be used for recusive calculations\n",
    "#\n",
    "\n",
    "cmc = np.array([[0, 1000], [100, 550]]) # Confusion matrix cost\n",
    "\n",
    "# Get the confusion matrix as costs\n",
    "def confusion_matrix_cost(Y_pred, Y_obs):\n",
    "    return confusion_matrix(Y_pred, Y_obs, labels = [0, 1]) * cmc\n",
    "\n",
    "# Calculate the total Churn Cost per Customer given Y predicted and observed\n",
    "def calculate_ccpc(Y_pred, Y_obs):\n",
    "    return np.sum( confusion_matrix_cost(Y_pred, Y_obs) ) / float(len(Y_obs))\n",
    "\n",
    "# Calculate accuracy by looking at the mean of correct predictions\n",
    "# Y observed and predicted can be given in any order\n",
    "def calculate_accuracy(Y_1, Y_2):\n",
    "    return np.mean(np.logical_not(np.logical_xor(Y_1, Y_2)).astype(int))"
   ]
  },
  {
   "cell_type": "code",
   "execution_count": 15,
   "metadata": {},
   "outputs": [
    {
     "name": "stdout",
     "output_type": "stream",
     "text": [
      "Churn cost per customer All churn = 267.1521905709331\n",
      "Churn cost per customer No churn = 371.44931237985134\n"
     ]
    }
   ],
   "source": [
    "ccpc_all_churn = calculate_ccpc(np.ones(len(y_test)), y_test)\n",
    "ccpc_no_churn = calculate_ccpc(np.zeros(len(y_test)), y_test)\n",
    "\n",
    "print(\"Churn cost per customer All churn = \" + str(ccpc_all_churn))\n",
    "print(\"Churn cost per customer No churn = \" + str(ccpc_no_churn))"
   ]
  },
  {
   "cell_type": "code",
   "execution_count": 16,
   "metadata": {},
   "outputs": [],
   "source": [
    "# import plotly.plotly as py\n",
    "# import plotly.graph_objs as go\n",
    "# import os\n",
    "\n",
    "# import numpy as np\n",
    "# data = [go.Histogram(x=X_train)]"
   ]
  },
  {
   "cell_type": "code",
   "execution_count": 17,
   "metadata": {},
   "outputs": [],
   "source": [
    "# py.iplot(data, filename='basic histogram')"
   ]
  },
  {
   "cell_type": "markdown",
   "metadata": {},
   "source": [
    "# Logistic regression"
   ]
  },
  {
   "cell_type": "code",
   "execution_count": 18,
   "metadata": {},
   "outputs": [],
   "source": [
    "from sklearn.linear_model import LogisticRegression\n",
    "lr_cf = LogisticRegression() # Logistic Regression Classifier\n",
    "\n",
    "lr_gs = GridSearchCV(lr_cf, param_grid = {'C': [10**i for i in range(-3, 3)], 'penalty': ['l1', 'l2']}, cv = 5)\n",
    "\n",
    "lr_gs.fit(X_train, y_train)\n",
    "\n",
    "lr_est = lr_gs.best_estimator_"
   ]
  },
  {
   "cell_type": "code",
   "execution_count": 19,
   "metadata": {},
   "outputs": [
    {
     "name": "stdout",
     "output_type": "stream",
     "text": [
      "Using LR params {'C': 0.1, 'penalty': 'l1'} produce the best model accuracy: 0.917465\n"
     ]
    }
   ],
   "source": [
    "print(\"Using LR params %s produce the best model accuracy: %f\" % (lr_gs.best_params_, lr_gs.best_score_))"
   ]
  },
  {
   "cell_type": "code",
   "execution_count": 20,
   "metadata": {},
   "outputs": [
    {
     "name": "stdout",
     "output_type": "stream",
     "text": [
      "Accuracy on training data = 0.917623\n",
      "Accuracy on test data = 0.918400\n"
     ]
    }
   ],
   "source": [
    "print(\"Accuracy on training data = %f\" % lr_est.score(X_train, y_train))\n",
    "print(\"Accuracy on test data = %f\" % lr_est.score(X_test, y_test))"
   ]
  },
  {
   "cell_type": "code",
   "execution_count": 21,
   "metadata": {},
   "outputs": [],
   "source": [
    "prob_churn = lr_est.predict_proba(X_test)[:,1] # Probabilities to churn"
   ]
  },
  {
   "cell_type": "code",
   "execution_count": 22,
   "metadata": {},
   "outputs": [],
   "source": [
    "# Predict churn given a probabilistic threshold t\n",
    "def predict_with_threshold(est, X, t = 0.5):\n",
    "    return (est.predict_proba(X)[:,1] >= t).astype(int)\n",
    "\n",
    "# Get the min churn cost per customer, and the associated probability threshold\n",
    "def churn_cost_per_customer_and_threshold(est, X, Y):\n",
    "    min_cost, optimal_t = np.max(cmc), 0\n",
    "    \n",
    "    for t in np.arange(0, 1.01, 0.01):\n",
    "        Y_predicted = predict_with_threshold(est, X, t)\n",
    "        ccpc = calculate_ccpc(Y_predicted, Y)\n",
    "        \n",
    "        if ccpc < min_cost:\n",
    "            min_cost = ccpc\n",
    "            optimal_t = t\n",
    "    \n",
    "    return min_cost, optimal_t\n",
    "\n",
    "# Only the churn cost per customer\n",
    "def churn_cost_per_customer(est, X, Y):\n",
    "    return churn_cost_per_customer_and_threshold(est, X, Y)[0]\n",
    "\n",
    "# Scorer used in GridSearchCV that minimizes the churn_cost_per_customer (=> maximize the inverse)\n",
    "def scorer_based_on_churn_cost_per_customer(est, X, Y):\n",
    "    return 1.0 / churn_cost_per_customer(est, X, Y)"
   ]
  },
  {
   "cell_type": "code",
   "execution_count": 23,
   "metadata": {},
   "outputs": [],
   "source": [
    "thresholds = np.arange(0, 1.01, 0.01) # The prob. thresholds\n",
    "scores = []\n",
    "\n",
    "for t in thresholds:\n",
    "    Y_predicted = predict_with_threshold(lr_est, X_test, t)\n",
    "    right_predictions = (Y_predicted == y_test)\n",
    "    scores.append( np.mean(right_predictions.astype(int)) )"
   ]
  },
  {
   "cell_type": "code",
   "execution_count": 24,
   "metadata": {},
   "outputs": [
    {
     "name": "stdout",
     "output_type": "stream",
     "text": [
      "Max accuracy occurs at probability threshold 0.45, with score of 0.92\n"
     ]
    }
   ],
   "source": [
    "# Getting the threshold that maximizes the score\n",
    "max_score, max_score_threshold = np.max(scores), thresholds[np.argmax(scores)]\n",
    "print(\"Max accuracy occurs at probability threshold %0.2f, with score of %0.2f\" % (max_score_threshold, max_score))"
   ]
  },
  {
   "cell_type": "code",
   "execution_count": 25,
   "metadata": {},
   "outputs": [
    {
     "data": {
      "image/png": "[encoded data removed]",
      "text/plain": [
       "<matplotlib.figure.Figure at 0x1de0030b588>"
      ]
     },
     "metadata": {},
     "output_type": "display_data"
    }
   ],
   "source": [
    "plt.plot(thresholds, scores, label = 'Evolution of score')\n",
    "plt.plot([0, max_score_threshold], [max_score, max_score], color = 'r', alpha = 0.2, label = 'Max score')\n",
    "plt.plot([max_score_threshold, max_score_threshold], [0, max_score], 'r--', alpha = 0.2)\n",
    "plt.plot([max_score_threshold], [max_score], 'bo')\n",
    "plt.legend()\n",
    "plt.ylim(0, 1)\n",
    "plt.xlabel('Probability Threshold')\n",
    "plt.ylabel('Model accuracy')\n",
    "plt.title('Evolution of model accuracy depending on probability threshold')\n",
    "plt.show()"
   ]
  },
  {
   "cell_type": "code",
   "execution_count": 26,
   "metadata": {},
   "outputs": [
    {
     "data": {
      "text/plain": [
       "234.29765953728474"
      ]
     },
     "execution_count": 26,
     "metadata": {},
     "output_type": "execute_result"
    }
   ],
   "source": [
    "calculate_ccpc(predict_with_threshold(lr_est, X_test, max_score_threshold), y_test)"
   ]
  },
  {
   "cell_type": "code",
   "execution_count": 27,
   "metadata": {},
   "outputs": [
    {
     "name": "stderr",
     "output_type": "stream",
     "text": [
      "C:\\Users\\tabme\\Anaconda3\\lib\\site-packages\\sklearn\\linear_model\\base.py:340: RuntimeWarning: overflow encountered in exp\n",
      "  np.exp(prob, prob)\n"
     ]
    }
   ],
   "source": [
    "lr_gs = GridSearchCV(lr_cf, param_grid = {'C': [10**i for i in range(-3, 3)], 'penalty': ['l1', 'l2']}, cv = 5, scoring = scorer_based_on_churn_cost_per_customer)\n",
    "\n",
    "lr_gs.fit(X_train, y_train)\n",
    "\n",
    "lr_est = lr_gs.best_estimator_"
   ]
  },
  {
   "cell_type": "code",
   "execution_count": 28,
   "metadata": {},
   "outputs": [
    {
     "name": "stdout",
     "output_type": "stream",
     "text": [
      "Using LR params {'C': 0.01, 'penalty': 'l1'} help get the minimum CCpC\n"
     ]
    }
   ],
   "source": [
    "print(\"Using LR params %s help get the minimum CCpC\" % lr_gs.best_params_)"
   ]
  },
  {
   "cell_type": "code",
   "execution_count": 29,
   "metadata": {},
   "outputs": [
    {
     "name": "stdout",
     "output_type": "stream",
     "text": [
      "The lowest churn cost per customer is $232.73, using probability threshold of 0.34\n"
     ]
    }
   ],
   "source": [
    "new_ccpc, t_with_lowest_ccpc = churn_cost_per_customer_and_threshold(lr_est, X_test, y_test)\n",
    "print(\"The lowest churn cost per customer is $%4.2f, using probability threshold of %0.2f\" % (new_ccpc, t_with_lowest_ccpc))"
   ]
  },
  {
   "cell_type": "code",
   "execution_count": 30,
   "metadata": {},
   "outputs": [
    {
     "data": {
      "text/plain": [
       "0.9096750776345329"
      ]
     },
     "execution_count": 30,
     "metadata": {},
     "output_type": "execute_result"
    }
   ],
   "source": [
    "Y_test_redicted = predict_with_threshold(lr_est, X_test, t_with_lowest_ccpc)\n",
    "calculate_accuracy(Y_test_redicted, y_test)"
   ]
  },
  {
   "cell_type": "code",
   "execution_count": null,
   "metadata": {},
   "outputs": [],
   "source": [
    "y_log = lr_gs.predict(X_test)"
   ]
  },
  {
   "cell_type": "markdown",
   "metadata": {},
   "source": [
    "# SVR"
   ]
  },
  {
   "cell_type": "code",
   "execution_count": 16,
   "metadata": {},
   "outputs": [
    {
     "data": {
      "text/plain": [
       "SVR(C=1.0, cache_size=200, coef0=0.0, degree=3, epsilon=0.1, gamma='auto',\n",
       "  kernel='rbf', max_iter=-1, shrinking=True, tol=0.001, verbose=False)"
      ]
     },
     "execution_count": 16,
     "metadata": {},
     "output_type": "execute_result"
    }
   ],
   "source": [
    "from sklearn.svm import SVR\n",
    "clf = SVR()\n",
    "clf.fit(X_train, y_train)"
   ]
  },
  {
   "cell_type": "code",
   "execution_count": null,
   "metadata": {},
   "outputs": [],
   "source": [
    "svr_rbf = SVR(kernel='rbf', C=1e3, gamma=0.1)\n",
    "svr_lin = SVR(kernel='linear', C=1e3)\n",
    "svr_poly = SVR(kernel='poly', C=1e3, degree=2)\n",
    "y_rbf = svr_rbf.fit(X_train, y_train).predict(X_test)\n",
    "y_lin = svr_lin.fit(X_train, y_train).predict(X_test)\n",
    "y_poly = svr_poly.fit(X_train, y_train).predict(X_test)"
   ]
  },
  {
   "cell_type": "code",
   "execution_count": null,
   "metadata": {},
   "outputs": [],
   "source": [
    "# Look at the results\n",
    "lw = 2\n",
    "plt.scatter(X_train, y_train, color='darkorange', label='data')\n",
    "plt.plot(X_train, y_rbf, color='navy', lw=lw, label='RBF model')\n",
    "plt.plot(X_train, y_lin, color='c', lw=lw, label='Linear model')\n",
    "plt.plot(X_train, y_poly, color='cornflowerblue', lw=lw, label='Polynomial model')\n",
    "plt.xlabel('data')\n",
    "plt.ylabel('target')\n",
    "plt.title('Support Vector Regression')\n",
    "plt.legend()\n",
    "plt.show()"
   ]
  },
  {
   "cell_type": "code",
   "execution_count": null,
   "metadata": {},
   "outputs": [],
   "source": []
  }
 ],
 "metadata": {
  "kernelspec": {
   "display_name": "Python 3",
   "language": "python",
   "name": "python3"
  },
  "language_info": {
   "codemirror_mode": {
    "name": "ipython",
    "version": 3
   },
   "file_extension": ".py",
   "mimetype": "text/x-python",
   "name": "python",
   "nbconvert_exporter": "python",
   "pygments_lexer": "ipython3",
   "version": "3.6.3"
  }
 },
 "nbformat": 4,
 "nbformat_minor": 2
}
